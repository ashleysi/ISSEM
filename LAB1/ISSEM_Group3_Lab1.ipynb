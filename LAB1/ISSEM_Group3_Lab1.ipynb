{
 "cells": [
  {
   "cell_type": "markdown",
   "metadata": {},
   "source": [
    "# ISSEM: Information Systems Security Engineering and Management, CS-GY6803\n",
    "NYU Tandon School of Engineering\n",
    "Professor S. Raj Rajagopalan\n",
    "Fall 2023\n",
    "## Group 3: Lab 1\n",
    "Group members: \n",
    "- Shaochen Ren sr6631\n",
    "- Ashley Simons aes841\n",
    "- Hannah Rogers hlr9377\n",
    "- Akash Barot ab11076"
   ]
  },
  {
   "cell_type": "code",
   "execution_count": null,
   "metadata": {},
   "outputs": [],
   "source": [
    "# Note: Questions 1-5 are installation and setup instructions"
   ]
  },
  {
   "cell_type": "code",
   "execution_count": 1,
   "metadata": {},
   "outputs": [
    {
     "name": "stdout",
     "output_type": "stream",
     "text": [
      "Group:3 Lab1 Course:ISSEM_6803\n"
     ]
    }
   ],
   "source": [
    "''' \n",
    "QUESTION 6:\n",
    "Create a new cell (type- code) and write the following code snippet and run the \n",
    "cell.\n",
    "    Group = \"<Your Group Number>\"\n",
    "    Course = \"ISSEM\"\n",
    "    Lab = “Lab1\"\n",
    "    print(\"Group:\"+Group, Lab, \"Course:\"+Course)\n",
    "'''\n",
    "\n",
    "Group = \"3\"\n",
    "Course = \"ISSEM_6803\"\n",
    "Lab = \"Lab1\"\n",
    "print(\"Group:\"+Group, Lab, \"Course:\"+Course)"
   ]
  },
  {
   "cell_type": "code",
   "execution_count": 19,
   "metadata": {},
   "outputs": [
    {
     "name": "stdout",
     "output_type": "stream",
     "text": [
      "This program is interchanging the first two words with last two words. \n",
      "The original string 'The quick brown fox jumps over the lazy dog' \n",
      "will become 'lazy dog brown fox jumps over the The quick'\n"
     ]
    }
   ],
   "source": [
    "'''\n",
    "QUESTION 7:\n",
    "This is the question from the Python assessment. What operation following piece \n",
    "of code is doing. Use comments to explain the relevant parts of the code.\n",
    "    str=\"The quick brown fox jumps over the lazy dog\"\n",
    "    arr = str.split(\" \")\n",
    "    temp=[]\n",
    "    temp.append(arr[0])\n",
    "    temp.append(arr[1])\n",
    "    arr[0]= arr[len(arr)-2]\n",
    "    arr[1]= arr[len(arr)-1]\n",
    "    arr[len(arr)-2] = temp[0]\n",
    "    arr[len(arr)-1] = temp[1]\n",
    "    str=' '.join(arr)\n",
    "\n",
    "'''\n",
    "# Initialize the original sentence as a string called 'str'.\n",
    "str = \"The quick brown fox jumps over the lazy dog\"\n",
    "\n",
    "# Split the string by spaces, resulting in a list of words.\n",
    "# This will result in ['The', 'quick', 'brown', 'fox', 'jumps', 'over', 'the', 'lazy', 'dog']\n",
    "arr = str.split(\" \")\n",
    "\n",
    "# Initialize an empty list called 'temp'.\n",
    "temp = []\n",
    "\n",
    "# Append the first two words of 'arr' to the 'temp' list.\n",
    "temp.append(arr[0])  # temp = [\"The\"]\n",
    "temp.append(arr[1])  # temp = [\"The\", \"quick\"]\n",
    "\n",
    "\n",
    "# Replace the first two words of 'arr' with the last two words of 'arr'.\n",
    "# arr[0] is now \"lazy\" this results in ['lazy', 'quick', 'brown', 'fox', 'jumps', 'over', 'the', 'lazy', 'dog']\n",
    "arr[0] = arr[len(arr)-2]\n",
    "# arr[1] is now \"dog\" this results in ['lazy', 'dog', 'brown', 'fox', 'jumps', 'over', 'the', 'lazy', 'dog']\n",
    "arr[1] = arr[len(arr)-1]\n",
    "\n",
    "\n",
    "# Replace the last two words of 'arr' with the words stored in 'temp' (i.e., the original first two words).\n",
    "# arr[len(arr)-2] is now \"The\" this results in ['lazy', 'dog', 'brown', 'fox', 'jumps', 'over', 'the', 'The', 'dog']\n",
    "arr[len(arr)-2] = temp[0] \n",
    "# arr[len(arr)-1] is now \"quick\" this results in ['lazy', 'dog', 'brown', 'fox', 'jumps', 'over', 'the', 'The', 'quick']\n",
    "arr[len(arr)-1] = temp[1] \n",
    "\n",
    "# Join the modified 'arr' list into a string, separated by spaces.\n",
    "str = ' '.join(arr)\n",
    "\n",
    "del str\n",
    "\n",
    "print(\"This program is interchanging the first two words with last two words. \\nThe original string 'The quick brown fox jumps over the lazy dog' \\nwill become 'lazy dog brown fox jumps over the The quick'\")"
   ]
  },
  {
   "cell_type": "code",
   "execution_count": null,
   "metadata": {},
   "outputs": [],
   "source": []
  }
 ],
 "metadata": {
  "kernelspec": {
   "display_name": "Python 3",
   "language": "python",
   "name": "python3"
  },
  "language_info": {
   "codemirror_mode": {
    "name": "ipython",
    "version": 3
   },
   "file_extension": ".py",
   "mimetype": "text/x-python",
   "name": "python",
   "nbconvert_exporter": "python",
   "pygments_lexer": "ipython3",
   "version": "3.7.3"
  }
 },
 "nbformat": 4,
 "nbformat_minor": 2
}
