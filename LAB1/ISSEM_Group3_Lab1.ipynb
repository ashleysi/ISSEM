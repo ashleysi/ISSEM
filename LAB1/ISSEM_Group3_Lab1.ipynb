{
 "cells": [
  {
   "cell_type": "markdown",
   "metadata": {},
   "source": [
    "# ISSEM: Information Systems Security Engineering and Management, CS-GY6803\n",
    "NYU Tandon School of Engineering\n",
    "Professor S. Raj Rajagopalan\n",
    "Fall 2023\n",
    "## Group 3: Lab 1\n",
    "Group members: \n",
    "- Shaochen Ren sr6631\n",
    "- Ashley Simons aes841\n",
    "- Hannah Rogers hlr9377\n",
    "- Akash Barot ab11076"
   ]
  },
  {
   "cell_type": "code",
   "execution_count": null,
   "metadata": {},
   "outputs": [],
   "source": [
    "# Note: Questions 1-5 are installation and setup instructions"
   ]
  },
  {
   "cell_type": "code",
   "execution_count": 1,
   "metadata": {},
   "outputs": [
    {
     "name": "stdout",
     "output_type": "stream",
     "text": [
      "Group:3 Lab1 Course:ISSEM_6803\n"
     ]
    }
   ],
   "source": [
    "''' \n",
    "QUESTION 6:\n",
    "Create a new cell (type- code) and write the following code snippet and run the \n",
    "cell.\n",
    "    Group = \"<Your Group Number>\"\n",
    "    Course = \"ISSEM\"\n",
    "    Lab = “Lab1\"\n",
    "    print(\"Group:\"+Group, Lab, \"Course:\"+Course)\n",
    "'''\n",
    "\n",
    "Group = \"3\"\n",
    "Course = \"ISSEM_6803\"\n",
    "Lab = \"Lab1\"\n",
    "print(\"Group:\"+Group, Lab, \"Course:\"+Course)"
   ]
  }
 ],
 "metadata": {
  "kernelspec": {
   "display_name": "Python 3",
   "language": "python",
   "name": "python3"
  },
  "language_info": {
   "codemirror_mode": {
    "name": "ipython",
    "version": 3
   },
   "file_extension": ".py",
   "mimetype": "text/x-python",
   "name": "python",
   "nbconvert_exporter": "python",
   "pygments_lexer": "ipython3",
   "version": "3.7.3"
  }
 },
 "nbformat": 4,
 "nbformat_minor": 2
}
