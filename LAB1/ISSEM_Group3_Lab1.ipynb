{
 "cells": [
  {
   "cell_type": "markdown",
   "metadata": {},
   "source": [
    "# ISSEM: Information Systems Security Engineering and Management, CS-GY6803\n",
    "NYU Tandon School of Engineering\n",
    "Professor S. Raj Rajagopalan\n",
    "Fall 2023\n",
    "## Group 3: Lab 1\n",
    "Group members: \n",
    "- Shaochen Ren sr6631\n",
    "- Ashley Simons aes841\n",
    "- Hannah Rogers hlr9377\n",
    "- Akash Barot ab11076"
   ]
  },
  {
   "cell_type": "code",
   "execution_count": null,
   "metadata": {},
   "outputs": [],
   "source": [
    "# Note: Questions 1-5 are installation and setup instructions"
   ]
  },
  {
   "cell_type": "code",
   "execution_count": 1,
   "metadata": {},
   "outputs": [
    {
     "name": "stdout",
     "output_type": "stream",
     "text": [
      "Group:3 Lab1 Course:ISSEM_6803\n"
     ]
    }
   ],
   "source": [
    "''' \n",
    "QUESTION 6:\n",
    "Create a new cell (type- code) and write the following code snippet and run the \n",
    "cell.\n",
    "    Group = \"<Your Group Number>\"\n",
    "    Course = \"ISSEM\"\n",
    "    Lab = “Lab1\"\n",
    "    print(\"Group:\"+Group, Lab, \"Course:\"+Course)\n",
    "'''\n",
    "\n",
    "Group = \"3\"\n",
    "Course = \"ISSEM_6803\"\n",
    "Lab = \"Lab1\"\n",
    "print(\"Group:\"+Group, Lab, \"Course:\"+Course)"
   ]
  },
  {
   "cell_type": "code",
   "execution_count": 24,
   "metadata": {},
   "outputs": [
    {
     "name": "stdout",
     "output_type": "stream",
     "text": [
      "lazy\n",
      "This program is interchanging the first two words with last two words. \n",
      "The original string 'The quick brown fox jumps over the lazy dog' \n",
      "will become 'lazy dog brown fox jumps over the The quick'\n"
     ]
    }
   ],
   "source": [
    "'''\n",
    "QUESTION 7:\n",
    "This is the question from the Python assessment. What operation following piece \n",
    "of code is doing. Use comments to explain the relevant parts of the code.\n",
    "    str=\"The quick brown fox jumps over the lazy dog\"\n",
    "    arr = str.split(\" \")\n",
    "    temp=[]\n",
    "    temp.append(arr[0])\n",
    "    temp.append(arr[1])\n",
    "    arr[0]= arr[len(arr)-2]\n",
    "    arr[1]= arr[len(arr)-1]\n",
    "    arr[len(arr)-2] = temp[0]\n",
    "    arr[len(arr)-1] = temp[1]\n",
    "    str=' '.join(arr)\n",
    "\n",
    "'''\n",
    "# Initialize the original sentence as a string called 'str'.\n",
    "str = \"The quick brown fox jumps over the lazy dog\"\n",
    "\n",
    "# Split the string by spaces, resulting in a list of words.\n",
    "# This will result in ['The', 'quick', 'brown', 'fox', 'jumps', 'over', 'the', 'lazy', 'dog']\n",
    "arr = str.split(\" \")\n",
    "\n",
    "# Initialize an empty list called 'temp'.\n",
    "temp = []\n",
    "\n",
    "# Append the first two words of 'arr' to the 'temp' list.\n",
    "temp.append(arr[0])  # temp = [\"The\"]\n",
    "temp.append(arr[1])  # temp = [\"The\", \"quick\"]\n",
    "\n",
    "\n",
    "# Replace the first two words of 'arr' with the last two words of 'arr'.\n",
    "# arr[0] is now \"lazy\" this results in ['lazy', 'quick', 'brown', 'fox', 'jumps', 'over', 'the', 'lazy', 'dog']\n",
    "arr[0] = arr[len(arr)-2]\n",
    "# arr[1] is now \"dog\" this results in ['lazy', 'dog', 'brown', 'fox', 'jumps', 'over', 'the', 'lazy', 'dog']\n",
    "arr[1] = arr[len(arr)-1]\n",
    "\n",
    "\n",
    "# Replace the last two words of 'arr' with the words stored in 'temp' (i.e., the original first two words).\n",
    "# arr[len(arr)-2] is now \"The\" this results in ['lazy', 'dog', 'brown', 'fox', 'jumps', 'over', 'the', 'The', 'dog']\n",
    "arr[len(arr)-2] = temp[0] \n",
    "# arr[len(arr)-1] is now \"quick\" this results in ['lazy', 'dog', 'brown', 'fox', 'jumps', 'over', 'the', 'The', 'quick']\n",
    "arr[len(arr)-1] = temp[1] \n",
    "\n",
    "# Join the modified 'arr' list into a string, separated by spaces.\n",
    "str = ' '.join(arr)\n",
    "\n",
    "del str\n",
    "\n",
    "print(\"This program is interchanging the first two words with last two words. \\nThe original string 'The quick brown fox jumps over the lazy dog' \\nwill become 'lazy dog brown fox jumps over the The quick'\")"
   ]
  },
  {
   "cell_type": "code",
   "execution_count": 21,
   "metadata": {},
   "outputs": [
    {
     "name": "stdout",
     "output_type": "stream",
     "text": [
      "321\n",
      "In this dummy function we are given an input number '123' \n",
      "We can convert the number to a string so we can get the index of the last character and iterate through all of them to print the string in reverse.\n"
     ]
    }
   ],
   "source": [
    "'''\n",
    "QUESTION 8:\n",
    "Write the following function in the next cell.\n",
    "    def dummy(var):\n",
    "        x=str(var)\n",
    "        y=len(x)-1\n",
    "        z=''\n",
    "        while y >= 0:\n",
    "            z = z + x[y]\n",
    "            y -=1\n",
    "        return int(z)\n",
    "Using an example, explain what this function is doing in comments.\n",
    "'''\n",
    "\n",
    "def dummy(var):       # Dummy function\n",
    "    x = str(var)      # Cast the input number to convert it to a string. Store it in a variable named 'x'\n",
    "    y = len(x) - 1    # Get the index of the last character in the string. Store it in a variable named 'y'\n",
    "    z = ''            # Initialize an empty string in a variable named 'z'\n",
    "    while y >= 0:     # Start from the last character and iterate to the first character.\n",
    "        z = z + x[y]  # Concatenate the characters in reverse order.\n",
    "        y -= 1        # Move to the previous character.\n",
    "    return int(z)     # Convert the reversed string back to an integer and return it.\n",
    "print(dummy(123))  # This will output 321\n",
    "\n",
    "print(\"In this dummy function we are given an input number '123' \\nWe can convert the number to a string so we can get the index of the last character and iterate through all of them to print the string in reverse.\")\n"
   ]
  },
  {
   "cell_type": "code",
   "execution_count": 23,
   "metadata": {},
   "outputs": [
    {
     "name": "stdout",
     "output_type": "stream",
     "text": [
      "Yes, 121 is a palindrome.\n",
      "No, 123 is not a palindrome.\n",
      "Yes, 414 is a palindrome.\n",
      "No, 866 is not a palindrome.\n",
      "No, 988 is not a palindrome.\n",
      "Yes, 101 is a palindrome.\n"
     ]
    }
   ],
   "source": [
    "'''\n",
    "QUESTION 9:\n",
    "In the next cell, use the above dummy function to check if below numbers are \n",
    "palindromes or not.\n",
    "121, 123, 414, 866. 988, 101\n",
    "'''\n",
    "# Function to check the numbers \n",
    "def is_palindrome(n):\n",
    "    reversed_n = dummy(n)  \n",
    "    return n == reversed_n\n",
    "numbers = [121, 123, 414, 866, 988, 101]\n",
    "for num in numbers:\n",
    "    if is_palindrome(num):\n",
    "        print(f\"Yes, {num} is a palindrome.\")\n",
    "    else:\n",
    "        print(f\"No, {num} is not a palindrome.\")"
   ]
  },
  {
   "cell_type": "code",
   "execution_count": 32,
   "metadata": {},
   "outputs": [
    {
     "name": "stdout",
     "output_type": "stream",
     "text": [
      "Original price: $440.00. After discount: $352.00.\n",
      "Original price: $265.00. After discount: $238.50.\n",
      "Original price: $144.00. After discount: $136.80.\n",
      "Original price: $-10.00. After discount: $Price cannot be negative. Please enter a positive value..\n",
      "Original price: $8.00. After discount: $4.00.\n"
     ]
    }
   ],
   "source": [
    "'''\n",
    "QUESTION 10:\n",
    "Following is the code for Calculate_Discount function which you implement in \n",
    "the Python Assessment.\n",
    "\n",
    "def Calculate_Discount(price):\n",
    "    if price >= 500:\n",
    "        final_price = price * (70/100)\n",
    "    elif price >= 350 and price < 500:\n",
    "        final_price = price * (80/100)\n",
    "    elif price >= 150 and price < 350:\n",
    "        final_price = price * (90/100)\n",
    "    elif price >= 10 and price < 150:\n",
    "        final_price = price * (95/100)\n",
    "    elif price > 0 and price < 10:\n",
    "        final_price = price * (50/100)\n",
    "    else:\n",
    "        final_price = \"Price cannot be negative. Please enter a positive value.\"\n",
    "    return final_price\n",
    "\n",
    "Write this code in next Cell and Calculate the discount for the following prices \n",
    "(Hint: Use for loop):\n",
    "• 440\n",
    "• 265\n",
    "• 144\n",
    "• -10\n",
    "• 8\n",
    "\n",
    "'''\n",
    "\n",
    "# Function to calculate the discounts \n",
    "def Calculate_Discount(price):\n",
    "    # If the price is greater than or equal to $500 then give a 30% discount\n",
    "    if price >= 500:\n",
    "        final_price = price * (70/100)\n",
    "    # If the price is greater than or equal to $350 ad less than $500 then give a 20% discount\n",
    "    elif price >= 350 and price < 500:\n",
    "        final_price = price * (80/100)\n",
    "    # If the price is greater than or equal to $350 and less than $500 then give a 10% discount\n",
    "    elif price >= 150 and price < 350:  \n",
    "        final_price = price * (90/100)\n",
    "    # If the price is greater than or equal to $10 and less than $150 then give a 5% discount\n",
    "    elif price >= 10 and price < 150:\n",
    "        final_price = price * (95/100)\n",
    "    # If the price is greater than 0 and less than $10 then give a 50% discount\n",
    "    elif price > 0 and price < 10:\n",
    "        final_price = price * (50/100)\n",
    "    else:\n",
    "        # If there is a negative number then request a new number\n",
    "        return \"Price cannot be negative. Please enter a positive value.\"\n",
    "    \n",
    "    # Reformat the output\n",
    "    return \"{:.2f}\".format(final_price)\n",
    "\n",
    "# Include these specific prices \n",
    "prices = [440, 265, 144, -10, 8]\n",
    "\n",
    "# Loop through the prices provided above and print the calculations \n",
    "for price in prices:\n",
    "    discounted_price = Calculate_Discount(price)\n",
    "    # Add zeros to the original prices\n",
    "    price = \"{:.2f}\".format(price)\n",
    "    print(f\"Original price: ${price}. After discount: ${discounted_price}.\")\n"
   ]
  }
 ],
 "metadata": {
  "kernelspec": {
   "display_name": "Python 3",
   "language": "python",
   "name": "python3"
  },
  "language_info": {
   "codemirror_mode": {
    "name": "ipython",
    "version": 3
   },
   "file_extension": ".py",
   "mimetype": "text/x-python",
   "name": "python",
   "nbconvert_exporter": "python",
   "pygments_lexer": "ipython3",
   "version": "3.7.3"
  }
 },
 "nbformat": 4,
 "nbformat_minor": 2
}
